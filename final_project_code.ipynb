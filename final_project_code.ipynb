{
 "cells": [
  {
   "attachments": {},
   "cell_type": "markdown",
   "id": "46e82527",
   "metadata": {},
   "source": [
    "<h1 style=\"text-align: center; color: purple;\" markdown=\"1\"> QTM 151 Final Project - Section 5\n",
    "</h1>\n",
    "\n",
    "<h2 style=\"text-align: center; color: #012169\" markdown=\"1\"> Leslie Flores, Dave Melkani, Neha Murthy, and Sophie Shayne </h2>"
   ]
  },
  {
   "attachments": {},
   "cell_type": "markdown",
   "id": "0faf8ed1",
   "metadata": {},
   "source": [
    "## **Introduction**"
   ]
  },
  {
   "attachments": {},
   "cell_type": "markdown",
   "id": "b58d43ff",
   "metadata": {},
   "source": [
    "    Formula 1 is the highest level of motorsport league for single-driver racing cars. In a Formula 1 season, there are a number of Grands Prix which is a series of races that occur on tracks called circuits. When racing, both drivers and the constructors, who are the teams and makers of the cars, earn points for winning, the fastest lap, and other benchmarks. Only drivers who place in the top 10 earn points. At the end of a Formula 1 season, the driver with the highest number of points wins and the same goes for the constructors. \n",
    "\n",
    "    We are probing into the question of whether drivers are more likely to win races at their hometown circuits. There are added expectations and increased excitement for drivers racing in their home country. As Formula 1 circuits occur worldwide, we want to uncover whether or not the homecourt advantage phenomenon is prevalent in this sport."
   ]
  },
  {
   "attachments": {},
   "cell_type": "markdown",
   "id": "269bab63",
   "metadata": {},
   "source": [
    "## **Data Description**"
   ]
  },
  {
   "attachments": {},
   "cell_type": "markdown",
   "id": "02ebb9d5",
   "metadata": {},
   "source": [
    "#### **Imports**"
   ]
  },
  {
   "attachments": {},
   "cell_type": "markdown",
   "id": "0be6520d",
   "metadata": {},
   "source": [
    "    We use the following four dataset tables: circuits, drivers, races and results. \n",
    "\n",
    "    1. Circuits: This table contains 77 rows for each of the unique circuits that have existed and been in use throughout the years of F1 racing for the years included in this whole dataset. To note, this table contains the circuit name as well as the country in which the race takes place among other characteristics. \n",
    "\n",
    "    2. Drivers: This table contains 857 rows for each of the unique drivers who have raced in the F1 races throughout the years included in this whole dataset. To note, this table contains the first and last name of drivers as well as their nationality among other characteristics.\n",
    "\n",
    "    3. Races: This table contains 1102 rows for each unique race from 1950 to 2023. To note, this table contains the year as well as the circuit identification of the race among other characteristics.\n",
    "    \n",
    "    4. Results: This table contains 25840 rows for each unique driver’s results in each unique race throughout the years included in this whole dataset. To note, this table contains race identification, driver identification as well as their total milliseconds time to complete the race among other characteristics.\n"
   ]
  },
  {
   "cell_type": "code",
   "execution_count": 78,
   "id": "45304076",
   "metadata": {},
   "outputs": [],
   "source": [
    "import pandas as pd\n",
    "import matplotlib.pyplot as plt\n",
    "import numpy as np\n",
    "from sklearn.metrics import confusion_matrix"
   ]
  },
  {
   "cell_type": "code",
   "execution_count": 2,
   "id": "1055dffe",
   "metadata": {},
   "outputs": [],
   "source": [
    "circuits = pd.read_csv(\"data_raw/circuits.csv\")\n",
    "drivers = pd.read_csv(\"data_raw/drivers.csv\")\n",
    "races = pd.read_csv(\"data_raw/races.csv\")\n",
    "results = pd.read_csv(\"data_raw/results.csv\") "
   ]
  },
  {
   "cell_type": "code",
   "execution_count": 53,
   "id": "9b1831ef",
   "metadata": {},
   "outputs": [
    {
     "name": "stdout",
     "output_type": "stream",
     "text": [
      "Ciruits Data: \n",
      "   circuitId   circuitRef                            name      location  \\\n",
      "0          1  albert_park  Albert Park Grand Prix Circuit     Melbourne   \n",
      "1          2       sepang    Sepang International Circuit  Kuala Lumpur   \n",
      "2          3      bahrain   Bahrain International Circuit        Sakhir   \n",
      "3          4    catalunya  Circuit de Barcelona-Catalunya      Montmeló   \n",
      "4          5     istanbul                   Istanbul Park      Istanbul   \n",
      "\n",
      "      country       lat        lng  alt  \\\n",
      "0  Australian -37.84970  144.96800   10   \n",
      "1   Malaysian   2.76083  101.73800   18   \n",
      "2     Bahrain  26.03250   50.51060    7   \n",
      "3     Spanish  41.57000    2.26111  109   \n",
      "4      Turkey  40.95170   29.40500  130   \n",
      "\n",
      "                                                 url  \n",
      "0  http://en.wikipedia.org/wiki/Melbourne_Grand_P...  \n",
      "1  http://en.wikipedia.org/wiki/Sepang_Internatio...  \n",
      "2  http://en.wikipedia.org/wiki/Bahrain_Internati...  \n",
      "3  http://en.wikipedia.org/wiki/Circuit_de_Barcel...  \n",
      "4         http://en.wikipedia.org/wiki/Istanbul_Park  \n",
      "Drivers Data: \n",
      "   driverId   driverRef number code  forename     surname         dob  \\\n",
      "0         1    hamilton     44  HAM     Lewis    Hamilton  1985-01-07   \n",
      "1         2    heidfeld     \\N  HEI      Nick    Heidfeld  1977-05-10   \n",
      "2         3     rosberg      6  ROS      Nico     Rosberg  1985-06-27   \n",
      "3         4      alonso     14  ALO  Fernando      Alonso  1981-07-29   \n",
      "4         5  kovalainen     \\N  KOV    Heikki  Kovalainen  1981-10-19   \n",
      "\n",
      "  nationality                                             url  \n",
      "0     British     http://en.wikipedia.org/wiki/Lewis_Hamilton  \n",
      "1      German      http://en.wikipedia.org/wiki/Nick_Heidfeld  \n",
      "2      German       http://en.wikipedia.org/wiki/Nico_Rosberg  \n",
      "3     Spanish    http://en.wikipedia.org/wiki/Fernando_Alonso  \n",
      "4     Finnish  http://en.wikipedia.org/wiki/Heikki_Kovalainen  \n",
      "Results Data: \n",
      "   resultId  raceId  driverId  constructorId number  grid position  \\\n",
      "0         1      18         1              1     22     1        1   \n",
      "1         2      18         2              2      3     5        2   \n",
      "2         3      18         3              3      7     7        3   \n",
      "3         4      18         4              4      5    11        4   \n",
      "4         5      18         5              1     23     3        5   \n",
      "\n",
      "  positionText  positionOrder  points  laps         time milliseconds  \\\n",
      "0            1              1    10.0    58  1:34:50.616      5690616   \n",
      "1            2              2     8.0    58       +5.478      5696094   \n",
      "2            3              3     6.0    58       +8.163      5698779   \n",
      "3            4              4     5.0    58      +17.181      5707797   \n",
      "4            5              5     4.0    58      +18.014      5708630   \n",
      "\n",
      "  fastestLap rank fastestLapTime fastestLapSpeed  statusId  \n",
      "0         39    2       1:27.452         218.300         1  \n",
      "1         41    3       1:27.739         217.586         1  \n",
      "2         41    5       1:28.090         216.719         1  \n",
      "3         58    7       1:28.603         215.464         1  \n",
      "4         43    1       1:27.418         218.385         1  \n",
      "Races Data: \n",
      "   raceId  year  round  circuitId                   name        date  \\\n",
      "0       1  2009      1          1  Australian Grand Prix  2009-03-29   \n",
      "1       2  2009      2          2   Malaysian Grand Prix  2009-04-05   \n",
      "2       3  2009      3         17     Chinese Grand Prix  2009-04-19   \n",
      "3       4  2009      4          3     Bahrain Grand Prix  2009-04-26   \n",
      "4       5  2009      5          4     Spanish Grand Prix  2009-05-10   \n",
      "\n",
      "       time                                                url fp1_date  \\\n",
      "0  06:00:00  http://en.wikipedia.org/wiki/2009_Australian_G...       \\N   \n",
      "1  09:00:00  http://en.wikipedia.org/wiki/2009_Malaysian_Gr...       \\N   \n",
      "2  07:00:00  http://en.wikipedia.org/wiki/2009_Chinese_Gran...       \\N   \n",
      "3  12:00:00  http://en.wikipedia.org/wiki/2009_Bahrain_Gran...       \\N   \n",
      "4  12:00:00  http://en.wikipedia.org/wiki/2009_Spanish_Gran...       \\N   \n",
      "\n",
      "  fp1_time fp2_date fp2_time fp3_date fp3_time quali_date quali_time  \\\n",
      "0       \\N       \\N       \\N       \\N       \\N         \\N         \\N   \n",
      "1       \\N       \\N       \\N       \\N       \\N         \\N         \\N   \n",
      "2       \\N       \\N       \\N       \\N       \\N         \\N         \\N   \n",
      "3       \\N       \\N       \\N       \\N       \\N         \\N         \\N   \n",
      "4       \\N       \\N       \\N       \\N       \\N         \\N         \\N   \n",
      "\n",
      "  sprint_date sprint_time  \n",
      "0          \\N          \\N  \n",
      "1          \\N          \\N  \n",
      "2          \\N          \\N  \n",
      "3          \\N          \\N  \n",
      "4          \\N          \\N  \n"
     ]
    }
   ],
   "source": [
    "print(\"Ciruits Data: \")\n",
    "print(circuits.head())\n",
    "print(\"Drivers Data: \")\n",
    "print(drivers.head())\n",
    "print(\"Races Data: \")\n",
    "print(races.head())\n",
    "print(\"Results Data: \")\n",
    "print(results.head())"
   ]
  },
  {
   "attachments": {},
   "cell_type": "markdown",
   "id": "cefdf04e",
   "metadata": {},
   "source": [
    "#### **Merging**"
   ]
  },
  {
   "cell_type": "markdown",
   "metadata": {},
   "source": [
    "    We use the merge function to sequentially combine information from four data frames. First, races and circuits are merged. Then, we merge that dataset with results, and lastly, we finalized our dataset by merging in the drivers dataset. Our merged dataset includes columns from all four data frames and is created using the \"left\" join function based on the common columns circuitId, raceId, and driverId amongst them. In the end, the resulting columns give us information about the drivers, such as names, nationalities, and IDs, each of the races, where they took place, and the corresponding results such as milliseconds, lap times, and lap speeds. "
   ]
  },
  {
   "cell_type": "code",
   "execution_count": 54,
   "id": "9751da8a",
   "metadata": {},
   "outputs": [],
   "source": [
    "races_merge = pd.merge(races,\n",
    "                         circuits[[\"circuitId\", \"country\"]],\n",
    "                         on = \"circuitId\",\n",
    "                         how = \"left\")\n",
    "\n",
    "results_merge_2 = pd.merge(results,\n",
    "                         races_merge[[\"raceId\", \"country\", \"year\"]],\n",
    "                         on = \"raceId\",\n",
    "                         how = \"left\")\n",
    "\n",
    "results_merge_final = pd.merge(results_merge_2,\n",
    "                         drivers[[\"driverId\", \"nationality\", \"forename\", \"surname\"]],\n",
    "                         on = \"driverId\",\n",
    "                         how = \"left\")"
   ]
  },
  {
   "attachments": {},
   "cell_type": "markdown",
   "id": "6a0362de",
   "metadata": {},
   "source": [
    "#### **Data Cleaning**"
   ]
  },
  {
   "attachments": {},
   "cell_type": "markdown",
   "id": "3dbe4c06",
   "metadata": {},
   "source": [
    "    Data cleaning is a crucial step in any data analysis project. It involves identifying and correcting errors, inconsistencies, and missing values in the data. In the given code, data cleaning is performed on the four datasets: circuits, drivers, results, and races. The cleaning steps include replacing certain values in the \"country\" and \"nationality\" columns to ensure consistency and accuracy in the data. For example, \"United States\" is replaced with \"USA,\" \"East German\" is combined with \"German,\" and \"American-Italian\" is combined with \"Italian.\" The goal of the data cleaning procedures is to prepare the data for analysis and ensure that the results are valid and reliable. We made all country names equal to the nationality that is associated with it in order to be able to match the winner’s home country with the country that each race took place in. Additionally, we made sure to recode all NA values for the milliseconds' column."
   ]
  },
  {
   "cell_type": "code",
   "execution_count": 4,
   "id": "2a6d110d",
   "metadata": {},
   "outputs": [],
   "source": [
    "circuits[\"country\"]    = circuits[\"country\"].replace([\"United States\"],[\"USA\"])\n",
    "drivers[\"nationality\"] = drivers[\"nationality\"].replace([\"East German\"],[\"German\"])\n",
    "drivers[\"nationality\"] = drivers[\"nationality\"].replace([\"American-Italian\"],[\"Italian\"])"
   ]
  },
  {
   "cell_type": "code",
   "execution_count": 5,
   "id": "d6b4211b",
   "metadata": {},
   "outputs": [],
   "source": [
    "circuits[\"country\"] = circuits[\"country\"].replace([\"UK\"],[\"British\"])\n",
    "circuits[\"country\"] = circuits[\"country\"].replace([\"Spain\"],[\"Spanish\"])\n",
    "circuits[\"country\"] = circuits[\"country\"].replace([\"Japan\"],[\"Japanese\"])\n",
    "circuits[\"country\"] = circuits[\"country\"].replace([\"France\"],[\"French\"])\n",
    "circuits[\"country\"] = circuits[\"country\"].replace([\"Brazil\"],[\"Brazilian\"])\n",
    "circuits[\"country\"] = circuits[\"country\"].replace([\"Italy\"],[\"Italian\"])\n",
    "circuits[\"country\"] = circuits[\"country\"].replace([\"Australia\"],[\"Australian\"])\n",
    "circuits[\"country\"] = circuits[\"country\"].replace([\"Austria\"],[\"Austrian\"])\n",
    "circuits[\"country\"] = circuits[\"country\"].replace([\"USA\"],[\"American\"])\n",
    "circuits[\"country\"] = circuits[\"country\"].replace([\"Netherlands\"],[\"Dutch\"])\n",
    "circuits[\"country\"] = circuits[\"country\"].replace([\"Portugal\"],[\"Portuguese\"])\n",
    "circuits[\"country\"] = circuits[\"country\"].replace([\"Canada\"],[\"Canadian\"])\n",
    "circuits[\"country\"] = circuits[\"country\"].replace([\"India\"],[\"Indian\"])\n",
    "circuits[\"country\"] = circuits[\"country\"].replace([\"Hungary\"],[\"Hungarian\"])\n",
    "circuits[\"country\"] = circuits[\"country\"].replace([\"Argentina\"],[\"Argentine\"])\n",
    "circuits[\"country\"] = circuits[\"country\"].replace([\"Malaysia\"],[\"Malaysian\"])\n",
    "circuits[\"country\"] = circuits[\"country\"].replace([\"Switzerland\"],[\"Swiss\"])\n",
    "circuits[\"country\"] = circuits[\"country\"].replace([\"Belgium\"],[\"Belgian\"])\n",
    "circuits[\"country\"] = circuits[\"country\"].replace([\"Monaco\"],[\"Monegasque\"])\n",
    "circuits[\"country\"] = circuits[\"country\"].replace([\"Sweden\"],[\"Swedish\"])\n",
    "circuits[\"country\"] = circuits[\"country\"].replace([\"Mexico\"],[\"Mexican\"])\n",
    "circuits[\"country\"] = circuits[\"country\"].replace([\"South Africa\"],[\"South African\"])\n",
    "circuits[\"country\"] = circuits[\"country\"].replace([\"Russia\"],[\"Russian\"])\n",
    "circuits[\"country\"] = circuits[\"country\"].replace([\"China\"],[\"Chinese\"])"
   ]
  },
  {
   "cell_type": "code",
   "execution_count": 7,
   "id": "0eb7c81b",
   "metadata": {},
   "outputs": [
    {
     "name": "stdout",
     "output_type": "stream",
     "text": [
      "['\\\\N']\n"
     ]
    }
   ],
   "source": [
    "subset      = results_merge_final.query(\"milliseconds.str.isnumeric() == False\")\n",
    "list_unique = pd.unique(subset[\"milliseconds\"])\n",
    "print(list_unique)\n",
    "list_old = ['\\\\N']\n",
    "list_new = [np.nan]\n",
    "results_merge_final[\"milliseconds\"] = results_merge_final[\"milliseconds\"].replace(list_old, list_new)"
   ]
  },
  {
   "cell_type": "code",
   "execution_count": 8,
   "id": "059773a6",
   "metadata": {},
   "outputs": [],
   "source": [
    "results_merge_final = results_merge_final.dropna()"
   ]
  },
  {
   "attachments": {},
   "cell_type": "markdown",
   "id": "a0bcdd64",
   "metadata": {},
   "source": [
    "#### **Main Columns**"
   ]
  },
  {
   "attachments": {},
   "cell_type": "markdown",
   "id": "08110d73",
   "metadata": {},
   "source": [
    "    We computed the column win_status by grouping the data by raceId and pulling the lowest milliseconds to indicate the winner. For each race, the driver with the lowest milliseconds was assigned a 1 and the rest were assigned a 0. The mean of win_status is 0.15 which indicates that there are more losers than winners which is expected. We also computed local_status to indicate when drivers were racing in their home country. The average for local_status is 0.07, indicating there are a small number of drivers who race in their home country. We also calculated the mean points which are ~6.26 with a maximum of 50. The median is 5 points which demonstrate that only drivers in the top 10 receive points and the rest get zero."
   ]
  },
  {
   "cell_type": "code",
   "execution_count": 56,
   "id": "83865e0b",
   "metadata": {},
   "outputs": [],
   "source": [
    "results_merge_final['win_status']    = results_merge_final.groupby('raceId')['milliseconds'].apply(lambda x: (x == x.min()).astype(int))\n",
    "results_merge_final['local_status']  = np.where(results_merge_final[\"nationality\"] == results_merge_final[\"country\"], 1, 0)"
   ]
  },
  {
   "attachments": {},
   "cell_type": "markdown",
   "id": "4962947d",
   "metadata": {},
   "source": [
    "## **Results**"
   ]
  },
  {
   "attachments": {},
   "cell_type": "markdown",
   "id": "c8544adf",
   "metadata": {},
   "source": [
    "    The confusion matrix below shows the performance of the model in predicting the race outcome. The model correctly predicted that the racer would win if they were a hometown racer 77 times, and correctly predicted that the racer would lose if they were not a hometown racer 5614 times. On the other hand, the model incorrectly predicted that the racer would win if they were not a hometown racer 391 times, and incorrectly predicted that the racer would lose if they were a hometown racer 1005 times."
   ]
  },
  {
   "cell_type": "code",
   "execution_count": 10,
   "id": "124b34af",
   "metadata": {},
   "outputs": [
    {
     "name": "stdout",
     "output_type": "stream",
     "text": [
      "            Not Hometown Racer        Hometown Racer\n",
      "Loser            5614                       391\n",
      "Winner           1005                       77\n"
     ]
    }
   ],
   "source": [
    "tn, fp, fn, tp = confusion_matrix(results_merge_final['win_status'], results_merge_final['local_status']).ravel()\n",
    "\n",
    "print(\"            Not Hometown Racer        Hometown Racer\")\n",
    "print(\"Loser            {}                       {}\".format(tn,fp))\n",
    "print(\"Winner           {}                       {}\".format(fn,tp))"
   ]
  },
  {
   "attachments": {},
   "cell_type": "markdown",
   "id": "a3a76776",
   "metadata": {},
   "source": [
    "    The bar plot below shows the frequency of hometown winners by nationality. The plot suggests that British racers are more likely to win in their hometowns, while Canadian and South African racers are less likely to win in their hometowns."
   ]
  },
  {
   "cell_type": "code",
   "execution_count": 82,
   "id": "d1a932f9",
   "metadata": {},
   "outputs": [],
   "source": [
    "hometown_winner = results_merge_final.query(\"win_status == local_status & win_status == 1\")\n",
    "\n",
    "plt.style.use('default')\n",
    "\n",
    "value_counts = hometown_winner[\"nationality\"].value_counts()\n",
    "fig, ax = plt.subplots(1,1)\n",
    "ax.bar(value_counts.index, value_counts.values)\n",
    "ax.set_ylabel(\"Frequency\")\n",
    "ax.set_xlabel(\"Nationality\")\n",
    "ax.set_title(\"Frequency of Hometown Winners by Nationality\")\n",
    "ax.xaxis.set_tick_params(rotation = 45)"
   ]
  },
  {
   "cell_type": "code",
   "execution_count": 84,
   "id": "a3a9a80e",
   "metadata": {},
   "outputs": [
    {
     "name": "stdout",
     "output_type": "stream",
     "text": [
      "1950    2\n",
      "1951    2\n",
      "1952    2\n",
      "1953    1\n",
      "1954    2\n",
      "       ..\n",
      "2018    0\n",
      "2019    1\n",
      "2020    1\n",
      "2021    2\n",
      "2022    1\n",
      "Name: year, Length: 73, dtype: int64\n",
      "1.4259259259259258\n"
     ]
    },
    {
     "data": {
      "text/plain": [
       "<AxesSubplot:title={'center':'Frequency of Hometown Winners by Year'}, xlabel='Year', ylabel='Frequency'>"
      ]
     },
     "execution_count": 84,
     "metadata": {},
     "output_type": "execute_result"
    }
   ],
   "source": [
    "values = hometown_winner.sort_values(\"year\")\n",
    "values_counts = values[\"year\"].value_counts().sort_index()\n",
    "\n",
    "#ACCOUNT FOR THE MISSING YEARS AND INSERTING CORRESPONDING 0 HOMETOWN WINNERS\n",
    "min_year = values_counts.index.min()\n",
    "max_year = values_counts.index.max()\n",
    "range_of_years = range(min_year, max_year +1 )\n",
    "full_values_counts = values_counts.reindex(range_of_years, fill_value = 0 )\n",
    "print(full_values_counts)\n",
    "print( values_counts.values.mean())\n",
    "\n",
    "plt.style.use('default')\n",
    "\n",
    "plt.ylabel(\"Frequency\")\n",
    "plt.xlabel(\"Year\")\n",
    "plt.title(\"Frequency of Hometown Winners by Year\")\n",
    "plt.scatter(full_values_counts.index, full_values_counts.values)\n",
    "full_values_counts.plot(kind = 'line', figsize=(10, 6))"
   ]
  },
  {
   "attachments": {},
   "cell_type": "markdown",
   "id": "cc678bfa",
   "metadata": {},
   "source": [
    "## **Discussion**"
   ]
  },
  {
   "attachments": {},
   "cell_type": "markdown",
   "id": "37725234",
   "metadata": {},
   "source": [
    "    Given our visualizations, we found that hometown winners are not a common occurrence. Although Britain has had the most hometown winners since the year 1950, given it is known to host many races for F1, this is not very surprising. \n",
    "    \n",
    "    Per year, the amount of hometown winners is also not very high, with the highest number of hometown winners being 4 in 1957. According to the past 73 years, we expect the number of hometown winners to range from 0- 4 each year, with the average being 1.42 ~ 1 hometown winner, and it is also most common that these winners will belong to North American, South American, or European countries. \n"
   ]
  }
 ],
 "metadata": {
  "kernelspec": {
   "display_name": "Python 3 (ipykernel)",
   "language": "python",
   "name": "python3"
  },
  "language_info": {
   "codemirror_mode": {
    "name": "ipython",
    "version": 3
   },
   "file_extension": ".py",
   "mimetype": "text/x-python",
   "name": "python",
   "nbconvert_exporter": "python",
   "pygments_lexer": "ipython3",
   "version": "3.9.13"
  }
 },
 "nbformat": 4,
 "nbformat_minor": 5
}
