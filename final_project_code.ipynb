{
 "cells": [
  {
   "attachments": {},
   "cell_type": "markdown",
   "id": "46e82527",
   "metadata": {},
   "source": [
    "<h1 style=\"text-align: center; color: purple;\" markdown=\"1\"> QTM 151 Final Project - Section 5\n",
    "</h1>\n",
    "\n",
    "<h2 style=\"text-align: center; color: #012169\" markdown=\"1\"> Leslie Flores, Dave Melkani, Neha Murthy, and Sophie Shayne </h2>"
   ]
  },
  {
   "attachments": {},
   "cell_type": "markdown",
   "id": "0faf8ed1",
   "metadata": {},
   "source": [
    "## **Introduction**"
   ]
  },
  {
   "attachments": {},
   "cell_type": "markdown",
   "id": "269bab63",
   "metadata": {},
   "source": [
    "## **Data Description**"
   ]
  },
  {
   "attachments": {},
   "cell_type": "markdown",
   "id": "02ebb9d5",
   "metadata": {},
   "source": [
    "#### **Imports**"
   ]
  },
  {
   "cell_type": "code",
   "execution_count": 1,
   "id": "45304076",
   "metadata": {},
   "outputs": [],
   "source": [
    "import pandas as pd\n",
    "import matplotlib.pyplot as plt\n",
    "import numpy as np\n",
    "from sklearn.metrics import confusion_matrix"
   ]
  },
  {
   "cell_type": "code",
   "execution_count": 2,
   "id": "1055dffe",
   "metadata": {},
   "outputs": [],
   "source": [
    "circuits = pd.read_csv(\"data_raw/circuits.csv\")\n",
    "drivers = pd.read_csv(\"data_raw/drivers.csv\")\n",
    "results = pd.read_csv(\"data_raw/results.csv\") \n",
    "races = pd.read_csv(\"data_raw/races.csv\")"
   ]
  },
  {
   "cell_type": "code",
   "execution_count": 3,
   "id": "9b1831ef",
   "metadata": {},
   "outputs": [],
   "source": [
    "# print(\"Ciruits Data: \")\n",
    "# print(circuits.head())\n",
    "# print(\"Drivers Data: \")\n",
    "# print(drivers.head())\n",
    "# print(\"Results Data: \")\n",
    "# print(results.head())\n",
    "# print(\"Races Data: \")\n",
    "# print(races.head())"
   ]
  },
  {
   "attachments": {},
   "cell_type": "markdown",
   "id": "6a0362de",
   "metadata": {},
   "source": [
    "#### **Data Cleaning**"
   ]
  },
  {
   "cell_type": "code",
   "execution_count": 4,
   "id": "2a6d110d",
   "metadata": {},
   "outputs": [],
   "source": [
    "circuits[\"country\"] = circuits[\"country\"].replace([\"United States\"],[\"USA\"])\n",
    "drivers[\"nationality\"] = drivers[\"nationality\"].replace([\"East German\"],[\"German\"])\n",
    "drivers[\"nationality\"] = drivers[\"nationality\"].replace([\"American-Italian\"],[\"Italian\"])"
   ]
  },
  {
   "cell_type": "code",
   "execution_count": 5,
   "id": "d6b4211b",
   "metadata": {},
   "outputs": [],
   "source": [
    "circuits[\"country\"] = circuits[\"country\"].replace([\"UK\"],[\"British\"])\n",
    "circuits[\"country\"] = circuits[\"country\"].replace([\"Spain\"],[\"Spanish\"])\n",
    "circuits[\"country\"] = circuits[\"country\"].replace([\"Japan\"],[\"Japanese\"])\n",
    "circuits[\"country\"] = circuits[\"country\"].replace([\"France\"],[\"French\"])\n",
    "circuits[\"country\"] = circuits[\"country\"].replace([\"Brazil\"],[\"Brazilian\"])\n",
    "circuits[\"country\"] = circuits[\"country\"].replace([\"Italy\"],[\"Italian\"])\n",
    "circuits[\"country\"] = circuits[\"country\"].replace([\"Australia\"],[\"Australian\"])\n",
    "circuits[\"country\"] = circuits[\"country\"].replace([\"Austria\"],[\"Austrian\"])\n",
    "circuits[\"country\"] = circuits[\"country\"].replace([\"USA\"],[\"American\"])\n",
    "circuits[\"country\"] = circuits[\"country\"].replace([\"Netherlands\"],[\"Dutch\"])\n",
    "circuits[\"country\"] = circuits[\"country\"].replace([\"Portugal\"],[\"Portuguese\"])\n",
    "circuits[\"country\"] = circuits[\"country\"].replace([\"Canada\"],[\"Canadian\"])\n",
    "circuits[\"country\"] = circuits[\"country\"].replace([\"India\"],[\"Indian\"])\n",
    "circuits[\"country\"] = circuits[\"country\"].replace([\"Hungary\"],[\"Hungarian\"])\n",
    "circuits[\"country\"] = circuits[\"country\"].replace([\"Argentina\"],[\"Argentine\"])\n",
    "circuits[\"country\"] = circuits[\"country\"].replace([\"Malaysia\"],[\"Malaysian\"])\n",
    "circuits[\"country\"] = circuits[\"country\"].replace([\"Switzerland\"],[\"Swiss\"])\n",
    "circuits[\"country\"] = circuits[\"country\"].replace([\"Belgium\"],[\"Belgian\"])\n",
    "circuits[\"country\"] = circuits[\"country\"].replace([\"Monaco\"],[\"Monegasque\"])\n",
    "circuits[\"country\"] = circuits[\"country\"].replace([\"Sweden\"],[\"Swedish\"])\n",
    "circuits[\"country\"] = circuits[\"country\"].replace([\"Mexico\"],[\"Mexican\"])\n",
    "circuits[\"country\"] = circuits[\"country\"].replace([\"South Africa\"],[\"South African\"])\n",
    "circuits[\"country\"] = circuits[\"country\"].replace([\"Russia\"],[\"Russian\"])\n",
    "circuits[\"country\"] = circuits[\"country\"].replace([\"China\"],[\"Chinese\"])"
   ]
  },
  {
   "attachments": {},
   "cell_type": "markdown",
   "id": "cefdf04e",
   "metadata": {},
   "source": [
    "#### **Merging**"
   ]
  },
  {
   "cell_type": "code",
   "execution_count": 6,
   "id": "9751da8a",
   "metadata": {},
   "outputs": [],
   "source": [
    "races_merge = pd.merge(races,\n",
    "                         circuits[[\"circuitId\", \"country\"]],\n",
    "                         on = \"circuitId\",\n",
    "                         how = \"left\")\n",
    "\n",
    "results_merge1 = pd.merge(results,\n",
    "                         races_merge[[\"raceId\", \"country\", \"year\"]],\n",
    "                         on = \"raceId\",\n",
    "                         how = \"left\")\n",
    "\n",
    "results_merge_final = pd.merge(results_merge1,\n",
    "                         drivers[[\"driverId\", \"nationality\", \"forename\", \"surname\"]],\n",
    "                         on = \"driverId\",\n",
    "                         how = \"left\")"
   ]
  },
  {
   "cell_type": "code",
   "execution_count": 7,
   "id": "0eb7c81b",
   "metadata": {},
   "outputs": [
    {
     "name": "stdout",
     "output_type": "stream",
     "text": [
      "['\\\\N']\n"
     ]
    }
   ],
   "source": [
    "subset      = results_merge_final.query(\"milliseconds.str.isnumeric() == False\")\n",
    "list_unique = pd.unique(subset[\"milliseconds\"])\n",
    "print(list_unique)\n",
    "list_old = ['\\\\N']\n",
    "list_new = [np.nan]\n",
    "results_merge_final[\"milliseconds\"] = results_merge_final[\"milliseconds\"].replace(list_old, list_new)"
   ]
  },
  {
   "cell_type": "code",
   "execution_count": 8,
   "id": "059773a6",
   "metadata": {},
   "outputs": [],
   "source": [
    "results_merge_final = results_merge_final.dropna()"
   ]
  },
  {
   "cell_type": "code",
   "execution_count": 9,
   "id": "83865e0b",
   "metadata": {},
   "outputs": [],
   "source": [
    "results_merge_final['win_status'] = results_merge_final.groupby('raceId')['milliseconds'].apply(lambda x: (x == x.min()).astype(int))\n",
    "results_merge_final['local_status'] = np.where(results_merge_final[\"nationality\"] == results_merge_final[\"country\"],1,0)"
   ]
  },
  {
   "attachments": {},
   "cell_type": "markdown",
   "id": "4962947d",
   "metadata": {},
   "source": [
    "## **Results**"
   ]
  },
  {
   "cell_type": "code",
   "execution_count": 10,
   "id": "124b34af",
   "metadata": {},
   "outputs": [
    {
     "name": "stdout",
     "output_type": "stream",
     "text": [
      "            Not Hometown Racer        Hometown Racer\n",
      "Loser            5614                       391\n",
      "Winner           1005                       77\n"
     ]
    }
   ],
   "source": [
    "tn, fp, fn, tp = confusion_matrix(results_merge_final['win_status'], results_merge_final['local_status']).ravel()\n",
    "\n",
    "print(\"            Not Hometown Racer        Hometown Racer\")\n",
    "print(\"Loser            {}                       {}\".format(tn,fp))\n",
    "print(\"Winner           {}                       {}\".format(fn,tp))"
   ]
  },
  {
   "cell_type": "code",
   "execution_count": 52,
   "id": "d1a932f9",
   "metadata": {},
   "outputs": [
    {
     "data": {
      "image/png": "[encoded data removed]",
      "text/plain": [
       "<Figure size 640x480 with 1 Axes>"
      ]
     },
     "metadata": {},
     "output_type": "display_data"
    }
   ],
   "source": [
    "hometown_winner = results_merge_final.query(\"win_status == local_status & win_status == 1\")\n",
    "plt.style.use('dark_background')\n",
    "\n",
    "value_counts = hometown_winner[\"nationality\"].value_counts()\n",
    "fig, ax = plt.subplots(1,1)\n",
    "ax.bar(value_counts.index, value_counts.values)\n",
    "ax.set_ylabel(\"Frequency\")\n",
    "ax.set_xlabel(\"Nationality\")\n",
    "ax.set_title(\"Frequency of Hometown Winners by Nationality\")\n",
    "ax.xaxis.set_tick_params(rotation = 45)"
   ]
  },
  {
   "attachments": {},
   "cell_type": "markdown",
   "id": "cc678bfa",
   "metadata": {},
   "source": [
    "## **Discussion**"
   ]
  }
 ],
 "metadata": {
  "kernelspec": {
   "display_name": "Python 3 (ipykernel)",
   "language": "python",
   "name": "python3"
  },
  "language_info": {
   "codemirror_mode": {
    "name": "ipython",
    "version": 3
   },
   "file_extension": ".py",
   "mimetype": "text/x-python",
   "name": "python",
   "nbconvert_exporter": "python",
   "pygments_lexer": "ipython3",
   "version": "3.9.13"
  }
 },
 "nbformat": 4,
 "nbformat_minor": 5
}
